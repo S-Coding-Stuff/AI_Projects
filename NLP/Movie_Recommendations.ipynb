{
 "cells": [
  {
   "cell_type": "code",
   "id": "initial_id",
   "metadata": {
    "collapsed": true,
    "ExecuteTime": {
     "end_time": "2025-07-24T12:20:25.282951Z",
     "start_time": "2025-07-24T12:20:21.067551Z"
    }
   },
   "source": [
    "import pandas as pd, numpy as np\n",
    "import matplotlib.pyplot as plt\n",
    "import sklearn\n",
    "import torch\n",
    "from torch import nn"
   ],
   "outputs": [],
   "execution_count": 1
  },
  {
   "metadata": {
    "ExecuteTime": {
     "end_time": "2025-07-24T14:13:45.361406Z",
     "start_time": "2025-07-24T14:13:42.908975Z"
    }
   },
   "cell_type": "code",
   "source": [
    "from datasets import load_dataset\n",
    "\n",
    "dataset = load_dataset('vishnupriyavr/wiki-movie-plots-with-summaries')\n",
    "#print(dataset[\"train\"][0])"
   ],
   "id": "ae95f3292630c45a",
   "outputs": [],
   "execution_count": 21
  },
  {
   "metadata": {
    "ExecuteTime": {
     "end_time": "2025-07-24T12:22:52.344919Z",
     "start_time": "2025-07-24T12:22:52.329726Z"
    }
   },
   "cell_type": "code",
   "source": "dataset.column_names[\"train\"]",
   "id": "a4d2e977bd61aae0",
   "outputs": [
    {
     "data": {
      "text/plain": [
       "['Release Year',\n",
       " 'Title',\n",
       " 'Origin/Ethnicity',\n",
       " 'Director',\n",
       " 'Cast',\n",
       " 'Genre',\n",
       " 'Wiki Page',\n",
       " 'Plot',\n",
       " 'PlotSummary']"
      ]
     },
     "execution_count": 4,
     "metadata": {},
     "output_type": "execute_result"
    }
   ],
   "execution_count": 4
  },
  {
   "metadata": {
    "ExecuteTime": {
     "end_time": "2025-07-24T13:36:40.348169Z",
     "start_time": "2025-07-24T13:36:38.981178Z"
    }
   },
   "cell_type": "code",
   "source": "df = pd.DataFrame(dataset[\"train\"])",
   "id": "7a8bc6d0af5a41c3",
   "outputs": [],
   "execution_count": 17
  },
  {
   "metadata": {
    "ExecuteTime": {
     "end_time": "2025-07-24T13:36:50.008900Z",
     "start_time": "2025-07-24T13:36:49.925735Z"
    }
   },
   "cell_type": "code",
   "source": [
    "df['Origin/Ethnicity'] = df['Origin/Ethnicity'].str.lower()\n",
    "df_english = df[df['Origin/Ethnicity'].str.contains('american|english', na=False)]\n",
    "df_english.tail()"
   ],
   "id": "8df02505768d5ed1",
   "outputs": [
    {
     "data": {
      "text/plain": [
       "       Release Year                       Title Origin/Ethnicity  \\\n",
       "17372          2017               Crooked House         american   \n",
       "17373          2017                    Hostiles         american   \n",
       "17374          2017  All the Money in the World         american   \n",
       "17375          2017                Molly's Game         american   \n",
       "17376          2017              Phantom Thread         american   \n",
       "\n",
       "                    Director  \\\n",
       "17372  Gilles Paquet-Brenner   \n",
       "17373           Scott Cooper   \n",
       "17374           Ridley Scott   \n",
       "17375           Aaron Sorkin   \n",
       "17376   Paul Thomas Anderson   \n",
       "\n",
       "                                                    Cast  \\\n",
       "17372  Gilles Paquet-Brenner (director/screenplay); T...   \n",
       "17373  Scott Cooper (director/screenplay); Donald E. ...   \n",
       "17374  Ridley Scott (director); David Scarpa (screenp...   \n",
       "17375  Aaron Sorkin (director/screenplay); Jessica Ch...   \n",
       "17376  Paul Thomas Anderson (director/screenplay); Da...   \n",
       "\n",
       "                         Genre  \\\n",
       "17372    crime, drama, mystery   \n",
       "17373                  western   \n",
       "17374  biography, crime, drama   \n",
       "17375  biography, crime, drama   \n",
       "17376                    drama   \n",
       "\n",
       "                                               Wiki Page  \\\n",
       "17372  https://en.wikipedia.org/wiki/Crooked_House_(f...   \n",
       "17373      https://en.wikipedia.org/wiki/Hostiles_(film)   \n",
       "17374  https://en.wikipedia.org/wiki/All_the_Money_in...   \n",
       "17375       https://en.wikipedia.org/wiki/Molly%27s_Game   \n",
       "17376       https://en.wikipedia.org/wiki/Phantom_Thread   \n",
       "\n",
       "                                                    Plot  \\\n",
       "17372  The granddaughter of late business tycoon Aris...   \n",
       "17373  In 1892, settler Wesley Quaid and his family a...   \n",
       "17374  In 1973, 16-year-old John Paul Getty III (Paul...   \n",
       "17375  Molly Bloom is world-class mogul skier with Ol...   \n",
       "17376  In 1954 London, renowned fashion designer Reyn...   \n",
       "\n",
       "                                             PlotSummary  \n",
       "17372  Sophia Leonides hires private investigator Cha...  \n",
       "17373  Captain Joseph Blocker rounds up an escaping A...  \n",
       "17374  John Paul Getty III (Paul), grandson of oil ty...  \n",
       "17375  Molly Bloom is world-class mogul skier with Ol...  \n",
       "17376  In 1954 London, renowned fashion designer Reyn...  "
      ],
      "text/html": [
       "<div>\n",
       "<style scoped>\n",
       "    .dataframe tbody tr th:only-of-type {\n",
       "        vertical-align: middle;\n",
       "    }\n",
       "\n",
       "    .dataframe tbody tr th {\n",
       "        vertical-align: top;\n",
       "    }\n",
       "\n",
       "    .dataframe thead th {\n",
       "        text-align: right;\n",
       "    }\n",
       "</style>\n",
       "<table border=\"1\" class=\"dataframe\">\n",
       "  <thead>\n",
       "    <tr style=\"text-align: right;\">\n",
       "      <th></th>\n",
       "      <th>Release Year</th>\n",
       "      <th>Title</th>\n",
       "      <th>Origin/Ethnicity</th>\n",
       "      <th>Director</th>\n",
       "      <th>Cast</th>\n",
       "      <th>Genre</th>\n",
       "      <th>Wiki Page</th>\n",
       "      <th>Plot</th>\n",
       "      <th>PlotSummary</th>\n",
       "    </tr>\n",
       "  </thead>\n",
       "  <tbody>\n",
       "    <tr>\n",
       "      <th>17372</th>\n",
       "      <td>2017</td>\n",
       "      <td>Crooked House</td>\n",
       "      <td>american</td>\n",
       "      <td>Gilles Paquet-Brenner</td>\n",
       "      <td>Gilles Paquet-Brenner (director/screenplay); T...</td>\n",
       "      <td>crime, drama, mystery</td>\n",
       "      <td>https://en.wikipedia.org/wiki/Crooked_House_(f...</td>\n",
       "      <td>The granddaughter of late business tycoon Aris...</td>\n",
       "      <td>Sophia Leonides hires private investigator Cha...</td>\n",
       "    </tr>\n",
       "    <tr>\n",
       "      <th>17373</th>\n",
       "      <td>2017</td>\n",
       "      <td>Hostiles</td>\n",
       "      <td>american</td>\n",
       "      <td>Scott Cooper</td>\n",
       "      <td>Scott Cooper (director/screenplay); Donald E. ...</td>\n",
       "      <td>western</td>\n",
       "      <td>https://en.wikipedia.org/wiki/Hostiles_(film)</td>\n",
       "      <td>In 1892, settler Wesley Quaid and his family a...</td>\n",
       "      <td>Captain Joseph Blocker rounds up an escaping A...</td>\n",
       "    </tr>\n",
       "    <tr>\n",
       "      <th>17374</th>\n",
       "      <td>2017</td>\n",
       "      <td>All the Money in the World</td>\n",
       "      <td>american</td>\n",
       "      <td>Ridley Scott</td>\n",
       "      <td>Ridley Scott (director); David Scarpa (screenp...</td>\n",
       "      <td>biography, crime, drama</td>\n",
       "      <td>https://en.wikipedia.org/wiki/All_the_Money_in...</td>\n",
       "      <td>In 1973, 16-year-old John Paul Getty III (Paul...</td>\n",
       "      <td>John Paul Getty III (Paul), grandson of oil ty...</td>\n",
       "    </tr>\n",
       "    <tr>\n",
       "      <th>17375</th>\n",
       "      <td>2017</td>\n",
       "      <td>Molly's Game</td>\n",
       "      <td>american</td>\n",
       "      <td>Aaron Sorkin</td>\n",
       "      <td>Aaron Sorkin (director/screenplay); Jessica Ch...</td>\n",
       "      <td>biography, crime, drama</td>\n",
       "      <td>https://en.wikipedia.org/wiki/Molly%27s_Game</td>\n",
       "      <td>Molly Bloom is world-class mogul skier with Ol...</td>\n",
       "      <td>Molly Bloom is world-class mogul skier with Ol...</td>\n",
       "    </tr>\n",
       "    <tr>\n",
       "      <th>17376</th>\n",
       "      <td>2017</td>\n",
       "      <td>Phantom Thread</td>\n",
       "      <td>american</td>\n",
       "      <td>Paul Thomas Anderson</td>\n",
       "      <td>Paul Thomas Anderson (director/screenplay); Da...</td>\n",
       "      <td>drama</td>\n",
       "      <td>https://en.wikipedia.org/wiki/Phantom_Thread</td>\n",
       "      <td>In 1954 London, renowned fashion designer Reyn...</td>\n",
       "      <td>In 1954 London, renowned fashion designer Reyn...</td>\n",
       "    </tr>\n",
       "  </tbody>\n",
       "</table>\n",
       "</div>"
      ]
     },
     "execution_count": 18,
     "metadata": {},
     "output_type": "execute_result"
    }
   ],
   "execution_count": 18
  },
  {
   "metadata": {
    "ExecuteTime": {
     "end_time": "2025-07-24T13:50:14.505081Z",
     "start_time": "2025-07-24T13:47:56.415803Z"
    }
   },
   "cell_type": "code",
   "source": [
    "from sentence_transformers import SentenceTransformer\n",
    "model = SentenceTransformer('all-MiniLM-L6-v2')\n",
    "df['embeddings'] = model.encode(df['PlotSummary'].tolist(), convert_to_tensor=True)"
   ],
   "id": "4c1ecdc3591d00c5",
   "outputs": [
    {
     "ename": "TypeError",
     "evalue": "can't convert mps:0 device type tensor to numpy. Use Tensor.cpu() to copy the tensor to host memory first.",
     "output_type": "error",
     "traceback": [
      "\u001B[31m---------------------------------------------------------------------------\u001B[39m",
      "\u001B[31mTypeError\u001B[39m                                 Traceback (most recent call last)",
      "\u001B[36mCell\u001B[39m\u001B[36m \u001B[39m\u001B[32mIn[20]\u001B[39m\u001B[32m, line 3\u001B[39m\n\u001B[32m      1\u001B[39m \u001B[38;5;28;01mfrom\u001B[39;00m\u001B[38;5;250m \u001B[39m\u001B[34;01msentence_transformers\u001B[39;00m\u001B[38;5;250m \u001B[39m\u001B[38;5;28;01mimport\u001B[39;00m SentenceTransformer\n\u001B[32m      2\u001B[39m model = SentenceTransformer(\u001B[33m'\u001B[39m\u001B[33mall-MiniLM-L6-v2\u001B[39m\u001B[33m'\u001B[39m)\n\u001B[32m----> \u001B[39m\u001B[32m3\u001B[39m \u001B[43mdf\u001B[49m\u001B[43m[\u001B[49m\u001B[33;43m'\u001B[39;49m\u001B[33;43membeddings\u001B[39;49m\u001B[33;43m'\u001B[39;49m\u001B[43m]\u001B[49m = model.encode(df[\u001B[33m'\u001B[39m\u001B[33mPlotSummary\u001B[39m\u001B[33m'\u001B[39m].tolist(), convert_to_tensor=\u001B[38;5;28;01mTrue\u001B[39;00m)\n",
      "\u001B[36mFile \u001B[39m\u001B[32m~/Desktop/AI_Projects/.venv/lib/python3.13/site-packages/pandas/core/frame.py:4316\u001B[39m, in \u001B[36mDataFrame.__setitem__\u001B[39m\u001B[34m(self, key, value)\u001B[39m\n\u001B[32m   4313\u001B[39m     \u001B[38;5;28mself\u001B[39m._setitem_array([key], value)\n\u001B[32m   4314\u001B[39m \u001B[38;5;28;01melse\u001B[39;00m:\n\u001B[32m   4315\u001B[39m     \u001B[38;5;66;03m# set column\u001B[39;00m\n\u001B[32m-> \u001B[39m\u001B[32m4316\u001B[39m     \u001B[38;5;28;43mself\u001B[39;49m\u001B[43m.\u001B[49m\u001B[43m_set_item\u001B[49m\u001B[43m(\u001B[49m\u001B[43mkey\u001B[49m\u001B[43m,\u001B[49m\u001B[43m \u001B[49m\u001B[43mvalue\u001B[49m\u001B[43m)\u001B[49m\n",
      "\u001B[36mFile \u001B[39m\u001B[32m~/Desktop/AI_Projects/.venv/lib/python3.13/site-packages/pandas/core/frame.py:4529\u001B[39m, in \u001B[36mDataFrame._set_item\u001B[39m\u001B[34m(self, key, value)\u001B[39m\n\u001B[32m   4519\u001B[39m \u001B[38;5;28;01mdef\u001B[39;00m\u001B[38;5;250m \u001B[39m\u001B[34m_set_item\u001B[39m(\u001B[38;5;28mself\u001B[39m, key, value) -> \u001B[38;5;28;01mNone\u001B[39;00m:\n\u001B[32m   4520\u001B[39m \u001B[38;5;250m    \u001B[39m\u001B[33;03m\"\"\"\u001B[39;00m\n\u001B[32m   4521\u001B[39m \u001B[33;03m    Add series to DataFrame in specified column.\u001B[39;00m\n\u001B[32m   4522\u001B[39m \n\u001B[32m   (...)\u001B[39m\u001B[32m   4527\u001B[39m \u001B[33;03m    ensure homogeneity.\u001B[39;00m\n\u001B[32m   4528\u001B[39m \u001B[33;03m    \"\"\"\u001B[39;00m\n\u001B[32m-> \u001B[39m\u001B[32m4529\u001B[39m     value, refs = \u001B[38;5;28;43mself\u001B[39;49m\u001B[43m.\u001B[49m\u001B[43m_sanitize_column\u001B[49m\u001B[43m(\u001B[49m\u001B[43mvalue\u001B[49m\u001B[43m)\u001B[49m\n\u001B[32m   4531\u001B[39m     \u001B[38;5;28;01mif\u001B[39;00m (\n\u001B[32m   4532\u001B[39m         key \u001B[38;5;129;01min\u001B[39;00m \u001B[38;5;28mself\u001B[39m.columns\n\u001B[32m   4533\u001B[39m         \u001B[38;5;129;01mand\u001B[39;00m value.ndim == \u001B[32m1\u001B[39m\n\u001B[32m   4534\u001B[39m         \u001B[38;5;129;01mand\u001B[39;00m \u001B[38;5;129;01mnot\u001B[39;00m \u001B[38;5;28misinstance\u001B[39m(value.dtype, ExtensionDtype)\n\u001B[32m   4535\u001B[39m     ):\n\u001B[32m   4536\u001B[39m         \u001B[38;5;66;03m# broadcast across multiple columns if necessary\u001B[39;00m\n\u001B[32m   4537\u001B[39m         \u001B[38;5;28;01mif\u001B[39;00m \u001B[38;5;129;01mnot\u001B[39;00m \u001B[38;5;28mself\u001B[39m.columns.is_unique \u001B[38;5;129;01mor\u001B[39;00m \u001B[38;5;28misinstance\u001B[39m(\u001B[38;5;28mself\u001B[39m.columns, MultiIndex):\n",
      "\u001B[36mFile \u001B[39m\u001B[32m~/Desktop/AI_Projects/.venv/lib/python3.13/site-packages/pandas/core/frame.py:5274\u001B[39m, in \u001B[36mDataFrame._sanitize_column\u001B[39m\u001B[34m(self, value)\u001B[39m\n\u001B[32m   5272\u001B[39m \u001B[38;5;28;01mif\u001B[39;00m is_list_like(value):\n\u001B[32m   5273\u001B[39m     com.require_length_match(value, \u001B[38;5;28mself\u001B[39m.index)\n\u001B[32m-> \u001B[39m\u001B[32m5274\u001B[39m arr = \u001B[43msanitize_array\u001B[49m\u001B[43m(\u001B[49m\u001B[43mvalue\u001B[49m\u001B[43m,\u001B[49m\u001B[43m \u001B[49m\u001B[38;5;28;43mself\u001B[39;49m\u001B[43m.\u001B[49m\u001B[43mindex\u001B[49m\u001B[43m,\u001B[49m\u001B[43m \u001B[49m\u001B[43mcopy\u001B[49m\u001B[43m=\u001B[49m\u001B[38;5;28;43;01mTrue\u001B[39;49;00m\u001B[43m,\u001B[49m\u001B[43m \u001B[49m\u001B[43mallow_2d\u001B[49m\u001B[43m=\u001B[49m\u001B[38;5;28;43;01mTrue\u001B[39;49;00m\u001B[43m)\u001B[49m\n\u001B[32m   5275\u001B[39m \u001B[38;5;28;01mif\u001B[39;00m (\n\u001B[32m   5276\u001B[39m     \u001B[38;5;28misinstance\u001B[39m(value, Index)\n\u001B[32m   5277\u001B[39m     \u001B[38;5;129;01mand\u001B[39;00m value.dtype == \u001B[33m\"\u001B[39m\u001B[33mobject\u001B[39m\u001B[33m\"\u001B[39m\n\u001B[32m   (...)\u001B[39m\u001B[32m   5280\u001B[39m     \u001B[38;5;66;03m# TODO: Remove kludge in sanitize_array for string mode when enforcing\u001B[39;00m\n\u001B[32m   5281\u001B[39m     \u001B[38;5;66;03m# this deprecation\u001B[39;00m\n\u001B[32m   5282\u001B[39m     warnings.warn(\n\u001B[32m   5283\u001B[39m         \u001B[33m\"\u001B[39m\u001B[33mSetting an Index with object dtype into a DataFrame will stop \u001B[39m\u001B[33m\"\u001B[39m\n\u001B[32m   5284\u001B[39m         \u001B[33m\"\u001B[39m\u001B[33minferring another dtype in a future version. Cast the Index \u001B[39m\u001B[33m\"\u001B[39m\n\u001B[32m   (...)\u001B[39m\u001B[32m   5287\u001B[39m         stacklevel=find_stack_level(),\n\u001B[32m   5288\u001B[39m     )\n",
      "\u001B[36mFile \u001B[39m\u001B[32m~/Desktop/AI_Projects/.venv/lib/python3.13/site-packages/pandas/core/construction.py:629\u001B[39m, in \u001B[36msanitize_array\u001B[39m\u001B[34m(data, index, dtype, copy, allow_2d)\u001B[39m\n\u001B[32m    627\u001B[39m         data = np.asarray(data)\n\u001B[32m    628\u001B[39m     \u001B[38;5;28;01melse\u001B[39;00m:\n\u001B[32m--> \u001B[39m\u001B[32m629\u001B[39m         data = \u001B[43mnp\u001B[49m\u001B[43m.\u001B[49m\u001B[43marray\u001B[49m\u001B[43m(\u001B[49m\u001B[43mdata\u001B[49m\u001B[43m,\u001B[49m\u001B[43m \u001B[49m\u001B[43mcopy\u001B[49m\u001B[43m=\u001B[49m\u001B[43mcopy\u001B[49m\u001B[43m)\u001B[49m\n\u001B[32m    630\u001B[39m     \u001B[38;5;28;01mreturn\u001B[39;00m sanitize_array(\n\u001B[32m    631\u001B[39m         data,\n\u001B[32m    632\u001B[39m         index=index,\n\u001B[32m   (...)\u001B[39m\u001B[32m    635\u001B[39m         allow_2d=allow_2d,\n\u001B[32m    636\u001B[39m     )\n\u001B[32m    638\u001B[39m \u001B[38;5;28;01melse\u001B[39;00m:\n",
      "\u001B[36mFile \u001B[39m\u001B[32m~/Desktop/AI_Projects/.venv/lib/python3.13/site-packages/torch/_tensor.py:1225\u001B[39m, in \u001B[36mTensor.__array__\u001B[39m\u001B[34m(self, dtype)\u001B[39m\n\u001B[32m   1223\u001B[39m     \u001B[38;5;28;01mreturn\u001B[39;00m handle_torch_function(Tensor.__array__, (\u001B[38;5;28mself\u001B[39m,), \u001B[38;5;28mself\u001B[39m, dtype=dtype)\n\u001B[32m   1224\u001B[39m \u001B[38;5;28;01mif\u001B[39;00m dtype \u001B[38;5;129;01mis\u001B[39;00m \u001B[38;5;28;01mNone\u001B[39;00m:\n\u001B[32m-> \u001B[39m\u001B[32m1225\u001B[39m     \u001B[38;5;28;01mreturn\u001B[39;00m \u001B[38;5;28;43mself\u001B[39;49m\u001B[43m.\u001B[49m\u001B[43mnumpy\u001B[49m\u001B[43m(\u001B[49m\u001B[43m)\u001B[49m\n\u001B[32m   1226\u001B[39m \u001B[38;5;28;01melse\u001B[39;00m:\n\u001B[32m   1227\u001B[39m     \u001B[38;5;28;01mreturn\u001B[39;00m \u001B[38;5;28mself\u001B[39m.numpy().astype(dtype, copy=\u001B[38;5;28;01mFalse\u001B[39;00m)\n",
      "\u001B[31mTypeError\u001B[39m: can't convert mps:0 device type tensor to numpy. Use Tensor.cpu() to copy the tensor to host memory first."
     ]
    }
   ],
   "execution_count": 20
  },
  {
   "metadata": {},
   "cell_type": "code",
   "outputs": [],
   "execution_count": null,
   "source": "",
   "id": "8c5e4fdc37f773ee"
  }
 ],
 "metadata": {
  "kernelspec": {
   "display_name": "Python (myenv)",
   "language": "python",
   "name": "myenv"
  },
  "language_info": {
   "codemirror_mode": {
    "name": "ipython",
    "version": 2
   },
   "file_extension": ".py",
   "mimetype": "text/x-python",
   "name": "python",
   "nbconvert_exporter": "python",
   "pygments_lexer": "ipython2",
   "version": "2.7.6"
  }
 },
 "nbformat": 4,
 "nbformat_minor": 5
}
