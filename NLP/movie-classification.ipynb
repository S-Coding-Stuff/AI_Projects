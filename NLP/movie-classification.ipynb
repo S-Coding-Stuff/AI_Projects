{
 "cells": [
  {
   "cell_type": "code",
   "id": "initial_id",
   "metadata": {
    "collapsed": true,
    "ExecuteTime": {
     "end_time": "2025-08-17T07:34:30.206610Z",
     "start_time": "2025-08-17T07:34:27.520211Z"
    }
   },
   "source": [
    "import pandas as pd, numpy as np\n",
    "import matplotlib.pyplot as plt\n",
    "import torch\n",
    "from torch import nn\n",
    "from sklearn.model_selection import train_test_split\n",
    "from transformers import AutoTokenizer, AutoModel, AutoModelForSequenceClassification"
   ],
   "outputs": [],
   "execution_count": 1
  },
  {
   "metadata": {
    "ExecuteTime": {
     "end_time": "2025-08-17T07:34:31.347211Z",
     "start_time": "2025-08-17T07:34:30.209988Z"
    }
   },
   "cell_type": "code",
   "source": "movies = pd.read_csv(\"movies-extended.csv\")",
   "id": "f8725592e7615419",
   "outputs": [],
   "execution_count": 2
  },
  {
   "metadata": {
    "ExecuteTime": {
     "end_time": "2025-08-17T07:34:31.845372Z",
     "start_time": "2025-08-17T07:34:31.355344Z"
    }
   },
   "cell_type": "code",
   "source": [
    "import re\n",
    "\n",
    "key_genres = {\n",
    "    'Action': ['action', 'martial arts', 'kung fu', 'fight', 'superhero', 'spy', 'war', 'swashbuckler'],\n",
    "    'Adventure': ['adventure', 'treasure', 'survival', 'expedition'],\n",
    "    'Comedy': ['comedy', 'satire', 'slapstick', 'parody'],\n",
    "    'Drama': ['drama', 'melodrama', 'biographical', 'biography', 'biopic', 'historical drama', 'period drama'],\n",
    "    'Horror': ['horror', 'slasher', 'supernatural'],\n",
    "    'Romance': ['romance', 'romantic'],\n",
    "    'Sci-Fi': ['sci-fi', 'science fiction', 'space', 'cyberpunk', 'time travel'],\n",
    "    'Documentary': ['documentary', 'docu'],\n",
    "    'Animation': ['animation', 'animated', 'cartoon', 'anime'],\n",
    "    'Mystery/Thriller': ['mystery', 'thriller', 'noir', 'crime', 'suspense'],\n",
    "    'Western': ['western'],\n",
    "    'Musical': ['musical', 'music'],\n",
    "    'Fantasy': ['fantasy', 'myth', 'fairy tale', 'magic', 'supernatural fantasy'],\n",
    "    'War': ['war', 'ww1', 'ww2', 'military', 'propaganda'],\n",
    "}\n",
    "\n",
    "# Function to map to broad category\n",
    "def map_key_genre(genre_str):\n",
    "    genre = genre_str.lower()\n",
    "    for category, keywords in key_genres.items():\n",
    "        for keyword in keywords:\n",
    "            if re.search(r'\\b' + re.escape(keyword) + r'\\b', genre):\n",
    "                return category\n",
    "    return 'Other'\n",
    "\n",
    "# Apply mapping\n",
    "movies['New-Genre'] = movies['Genre'].apply(map_key_genre)\n",
    "\n",
    "# Check mapping results\n",
    "broad_genre_counts = movies['New-Genre'].value_counts()\n",
    "broad_genre_counts\n"
   ],
   "id": "aaaea6fa3738ef3e",
   "outputs": [
    {
     "data": {
      "text/plain": [
       "New-Genre\n",
       "Drama               6132\n",
       "Comedy              5655\n",
       "Mystery/Thriller    2091\n",
       "Other               1831\n",
       "Action              1611\n",
       "Horror              1148\n",
       "Western              881\n",
       "Adventure            679\n",
       "Animation            640\n",
       "Sci-Fi               634\n",
       "Musical              472\n",
       "Romance              284\n",
       "Fantasy              191\n",
       "Documentary           81\n",
       "War                   16\n",
       "Name: count, dtype: int64"
      ]
     },
     "execution_count": 3,
     "metadata": {},
     "output_type": "execute_result"
    }
   ],
   "execution_count": 3
  },
  {
   "metadata": {
    "ExecuteTime": {
     "end_time": "2025-08-17T07:34:31.879130Z",
     "start_time": "2025-08-17T07:34:31.853932Z"
    }
   },
   "cell_type": "code",
   "source": [
    "# For sub-genre classification, we'll keep one label per movie\n",
    "# If multiple genres are listed in the original, we'll just take the first meaningful one\n",
    "\n",
    "def extract_primary_subgenre(genre_str):\n",
    "    if pd.isna(genre_str):\n",
    "        return None\n",
    "    # Normalize separators\n",
    "    cleaned = re.sub(r'[,/–]', ' ', genre_str.lower())\n",
    "    parts = cleaned.split()\n",
    "    # Return the first significant term (not 'short', 'film', etc.)\n",
    "    for p in parts:\n",
    "        if p not in ['short', 'film', 'movie', 'series', 'mini-series']:\n",
    "            return p.strip()\n",
    "    return None\n",
    "\n",
    "movies['Sub-Genre'] = movies['Genre'].apply(extract_primary_subgenre)\n",
    "\n",
    "# Drop rows with no sub-genre\n",
    "subgenre_df = movies.dropna(subset=['Sub-Genre'])\n",
    "\n",
    "# Check how many unique sub-genres remain\n",
    "unique_subgenres = subgenre_df['Sub-Genre'].unique()\n",
    "len(unique_subgenres), list(unique_subgenres)[:50]\n"
   ],
   "id": "5871a92e774bdf8a",
   "outputs": [
    {
     "data": {
      "text/plain": [
       "(211,\n",
       " ['unknown',\n",
       "  'western',\n",
       "  'comedy',\n",
       "  'action',\n",
       "  'biographical',\n",
       "  'drama',\n",
       "  'adventure',\n",
       "  'fantasy',\n",
       "  'silent',\n",
       "  'horror',\n",
       "  'crime',\n",
       "  'historical',\n",
       "  'documentary',\n",
       "  'epic',\n",
       "  'biography',\n",
       "  'romantic',\n",
       "  'mystery',\n",
       "  'romance',\n",
       "  'sexual',\n",
       "  'war',\n",
       "  'spy',\n",
       "  'propaganda',\n",
       "  'ww1',\n",
       "  'biopic',\n",
       "  'animated',\n",
       "  'melodrama',\n",
       "  'period',\n",
       "  'swashbuckler',\n",
       "  'thriller',\n",
       "  'dramatic',\n",
       "  'american',\n",
       "  'semi-staged',\n",
       "  'biblical',\n",
       "  'race',\n",
       "  'musical',\n",
       "  'operetta',\n",
       "  'detective',\n",
       "  'costume',\n",
       "  'prison',\n",
       "  'noir',\n",
       "  'sports',\n",
       "  'animation',\n",
       "  'science',\n",
       "  'sci-fi',\n",
       "  'exploitation',\n",
       "  'murder',\n",
       "  'comedy-drama',\n",
       "  'sport',\n",
       "  'serial',\n",
       "  'military'])"
      ]
     },
     "execution_count": 4,
     "metadata": {},
     "output_type": "execute_result"
    }
   ],
   "execution_count": 4
  },
  {
   "metadata": {
    "ExecuteTime": {
     "end_time": "2025-08-17T07:34:31.896511Z",
     "start_time": "2025-08-17T07:34:31.887343Z"
    }
   },
   "cell_type": "code",
   "source": "movies",
   "id": "212a948f19f6e241",
   "outputs": [
    {
     "data": {
      "text/plain": [
       "       Release Year                                              Title  \\\n",
       "0              1901                             Kansas Saloon Smashers   \n",
       "1              1901                      Love by the Light of the Moon   \n",
       "2              1901                            The Martyred Presidents   \n",
       "3              1901                   Terrible Teddy, the Grizzly King   \n",
       "4              1902                             Jack and the Beanstalk   \n",
       "...             ...                                                ...   \n",
       "22341          2017  Hochelaga, Land of Souls (Hochelaga terre des ...   \n",
       "22342          2017                                       Indian Horse   \n",
       "22343          2017  The Little Girl Who Was Too Fond of Matches (L...   \n",
       "22344          2017                                    Meditation Park   \n",
       "22345          2017                             Ravenous (Les Affamés)   \n",
       "\n",
       "      Origin/Ethnicity                            Director  \\\n",
       "0             American                             Unknown   \n",
       "1             American                             Unknown   \n",
       "2             American                             Unknown   \n",
       "3             American                             Unknown   \n",
       "4             American  George S. Fleming, Edwin S. Porter   \n",
       "...                ...                                 ...   \n",
       "22341         Canadian                     François Girard   \n",
       "22342         Canadian                  Stephen Campanelli   \n",
       "22343         Canadian                        Simon Lavoie   \n",
       "22344         Canadian                           Mina Shum   \n",
       "22345         Canadian                        Robin Aubert   \n",
       "\n",
       "                                                    Cast             Genre  \\\n",
       "0                                                    NaN           unknown   \n",
       "1                                                    NaN           unknown   \n",
       "2                                                    NaN           unknown   \n",
       "3                                                    NaN           unknown   \n",
       "4                                                    NaN           unknown   \n",
       "...                                                  ...               ...   \n",
       "22341   Raoul Max Trujillo, Tanaya Beatty, David La Haye  historical drama   \n",
       "22342  Forrest Goodluck, Michiel Huisman, Michael Mur...             drama   \n",
       "22343                                                NaN           unknown   \n",
       "22344             Sandra Oh, Liane Balaban, Don McKellar             drama   \n",
       "22345                                                NaN      horror drama   \n",
       "\n",
       "                                               Wiki Page  \\\n",
       "0      https://en.wikipedia.org/wiki/Kansas_Saloon_Sm...   \n",
       "1      https://en.wikipedia.org/wiki/Love_by_the_Ligh...   \n",
       "2      https://en.wikipedia.org/wiki/The_Martyred_Pre...   \n",
       "3      https://en.wikipedia.org/wiki/Terrible_Teddy,_...   \n",
       "4      https://en.wikipedia.org/wiki/Jack_and_the_Bea...   \n",
       "...                                                  ...   \n",
       "22341  https://en.wikipedia.org/wiki/Hochelaga,_Land_...   \n",
       "22342  https://en.wikipedia.org/wiki/Indian_Horse_(film)   \n",
       "22343  https://en.wikipedia.org/wiki/The_Little_Girl_...   \n",
       "22344      https://en.wikipedia.org/wiki/Meditation_Park   \n",
       "22345  https://en.wikipedia.org/wiki/Ravenous_(2017_f...   \n",
       "\n",
       "                                                    Plot  \\\n",
       "0      A bartender is working at a saloon, serving dr...   \n",
       "1      The moon, painted with a smiling face hangs ov...   \n",
       "2      The film, just over a minute long, is composed...   \n",
       "3      Lasting just 61 seconds and consisting of two ...   \n",
       "4      The earliest known adaptation of the classic f...   \n",
       "...                                                  ...   \n",
       "22341  One night on the campus of McGill University, ...   \n",
       "22342  The Indian Horse family, including six-year-ol...   \n",
       "22343  In rural 1930s Quebec, Alice lives in house wi...   \n",
       "22344  Opened by Mandarin theme song, Meditation Park...   \n",
       "22345  In the aftermath of a zombie-like outbreak, th...   \n",
       "\n",
       "                                          Title-And-Plot  \\\n",
       "0      Kansas Saloon Smashers : A bartender is workin...   \n",
       "1      Love by the Light of the Moon : The moon, pain...   \n",
       "2      The Martyred Presidents : The film, just over ...   \n",
       "3      Terrible Teddy, the Grizzly King : Lasting jus...   \n",
       "4      Jack and the Beanstalk : The earliest known ad...   \n",
       "...                                                  ...   \n",
       "22341  Hochelaga, Land of Souls (Hochelaga terre des ...   \n",
       "22342  Indian Horse : The Indian Horse family, includ...   \n",
       "22343  The Little Girl Who Was Too Fond of Matches (L...   \n",
       "22344  Meditation Park : Opened by Mandarin theme son...   \n",
       "22345  Ravenous (Les Affamés) : In the aftermath of a...   \n",
       "\n",
       "                                          Genre-And-Plot New-Genre   Sub-Genre  \n",
       "0      A bartender is working at a saloon, serving dr...     Other     unknown  \n",
       "1      The moon, painted with a smiling face hangs ov...     Other     unknown  \n",
       "2      The film, just over a minute long, is composed...     Other     unknown  \n",
       "3      Lasting just 61 seconds and consisting of two ...     Other     unknown  \n",
       "4      The earliest known adaptation of the classic f...     Other     unknown  \n",
       "...                                                  ...       ...         ...  \n",
       "22341  historical drama : One night on the campus of ...     Drama  historical  \n",
       "22342  drama : The Indian Horse family, including six...     Drama       drama  \n",
       "22343  In rural 1930s Quebec, Alice lives in house wi...     Other     unknown  \n",
       "22344  drama : Opened by Mandarin theme song, Meditat...     Drama       drama  \n",
       "22345  horror drama : In the aftermath of a zombie-li...     Drama      horror  \n",
       "\n",
       "[22346 rows x 12 columns]"
      ],
      "text/html": [
       "<div>\n",
       "<style scoped>\n",
       "    .dataframe tbody tr th:only-of-type {\n",
       "        vertical-align: middle;\n",
       "    }\n",
       "\n",
       "    .dataframe tbody tr th {\n",
       "        vertical-align: top;\n",
       "    }\n",
       "\n",
       "    .dataframe thead th {\n",
       "        text-align: right;\n",
       "    }\n",
       "</style>\n",
       "<table border=\"1\" class=\"dataframe\">\n",
       "  <thead>\n",
       "    <tr style=\"text-align: right;\">\n",
       "      <th></th>\n",
       "      <th>Release Year</th>\n",
       "      <th>Title</th>\n",
       "      <th>Origin/Ethnicity</th>\n",
       "      <th>Director</th>\n",
       "      <th>Cast</th>\n",
       "      <th>Genre</th>\n",
       "      <th>Wiki Page</th>\n",
       "      <th>Plot</th>\n",
       "      <th>Title-And-Plot</th>\n",
       "      <th>Genre-And-Plot</th>\n",
       "      <th>New-Genre</th>\n",
       "      <th>Sub-Genre</th>\n",
       "    </tr>\n",
       "  </thead>\n",
       "  <tbody>\n",
       "    <tr>\n",
       "      <th>0</th>\n",
       "      <td>1901</td>\n",
       "      <td>Kansas Saloon Smashers</td>\n",
       "      <td>American</td>\n",
       "      <td>Unknown</td>\n",
       "      <td>NaN</td>\n",
       "      <td>unknown</td>\n",
       "      <td>https://en.wikipedia.org/wiki/Kansas_Saloon_Sm...</td>\n",
       "      <td>A bartender is working at a saloon, serving dr...</td>\n",
       "      <td>Kansas Saloon Smashers : A bartender is workin...</td>\n",
       "      <td>A bartender is working at a saloon, serving dr...</td>\n",
       "      <td>Other</td>\n",
       "      <td>unknown</td>\n",
       "    </tr>\n",
       "    <tr>\n",
       "      <th>1</th>\n",
       "      <td>1901</td>\n",
       "      <td>Love by the Light of the Moon</td>\n",
       "      <td>American</td>\n",
       "      <td>Unknown</td>\n",
       "      <td>NaN</td>\n",
       "      <td>unknown</td>\n",
       "      <td>https://en.wikipedia.org/wiki/Love_by_the_Ligh...</td>\n",
       "      <td>The moon, painted with a smiling face hangs ov...</td>\n",
       "      <td>Love by the Light of the Moon : The moon, pain...</td>\n",
       "      <td>The moon, painted with a smiling face hangs ov...</td>\n",
       "      <td>Other</td>\n",
       "      <td>unknown</td>\n",
       "    </tr>\n",
       "    <tr>\n",
       "      <th>2</th>\n",
       "      <td>1901</td>\n",
       "      <td>The Martyred Presidents</td>\n",
       "      <td>American</td>\n",
       "      <td>Unknown</td>\n",
       "      <td>NaN</td>\n",
       "      <td>unknown</td>\n",
       "      <td>https://en.wikipedia.org/wiki/The_Martyred_Pre...</td>\n",
       "      <td>The film, just over a minute long, is composed...</td>\n",
       "      <td>The Martyred Presidents : The film, just over ...</td>\n",
       "      <td>The film, just over a minute long, is composed...</td>\n",
       "      <td>Other</td>\n",
       "      <td>unknown</td>\n",
       "    </tr>\n",
       "    <tr>\n",
       "      <th>3</th>\n",
       "      <td>1901</td>\n",
       "      <td>Terrible Teddy, the Grizzly King</td>\n",
       "      <td>American</td>\n",
       "      <td>Unknown</td>\n",
       "      <td>NaN</td>\n",
       "      <td>unknown</td>\n",
       "      <td>https://en.wikipedia.org/wiki/Terrible_Teddy,_...</td>\n",
       "      <td>Lasting just 61 seconds and consisting of two ...</td>\n",
       "      <td>Terrible Teddy, the Grizzly King : Lasting jus...</td>\n",
       "      <td>Lasting just 61 seconds and consisting of two ...</td>\n",
       "      <td>Other</td>\n",
       "      <td>unknown</td>\n",
       "    </tr>\n",
       "    <tr>\n",
       "      <th>4</th>\n",
       "      <td>1902</td>\n",
       "      <td>Jack and the Beanstalk</td>\n",
       "      <td>American</td>\n",
       "      <td>George S. Fleming, Edwin S. Porter</td>\n",
       "      <td>NaN</td>\n",
       "      <td>unknown</td>\n",
       "      <td>https://en.wikipedia.org/wiki/Jack_and_the_Bea...</td>\n",
       "      <td>The earliest known adaptation of the classic f...</td>\n",
       "      <td>Jack and the Beanstalk : The earliest known ad...</td>\n",
       "      <td>The earliest known adaptation of the classic f...</td>\n",
       "      <td>Other</td>\n",
       "      <td>unknown</td>\n",
       "    </tr>\n",
       "    <tr>\n",
       "      <th>...</th>\n",
       "      <td>...</td>\n",
       "      <td>...</td>\n",
       "      <td>...</td>\n",
       "      <td>...</td>\n",
       "      <td>...</td>\n",
       "      <td>...</td>\n",
       "      <td>...</td>\n",
       "      <td>...</td>\n",
       "      <td>...</td>\n",
       "      <td>...</td>\n",
       "      <td>...</td>\n",
       "      <td>...</td>\n",
       "    </tr>\n",
       "    <tr>\n",
       "      <th>22341</th>\n",
       "      <td>2017</td>\n",
       "      <td>Hochelaga, Land of Souls (Hochelaga terre des ...</td>\n",
       "      <td>Canadian</td>\n",
       "      <td>François Girard</td>\n",
       "      <td>Raoul Max Trujillo, Tanaya Beatty, David La Haye</td>\n",
       "      <td>historical drama</td>\n",
       "      <td>https://en.wikipedia.org/wiki/Hochelaga,_Land_...</td>\n",
       "      <td>One night on the campus of McGill University, ...</td>\n",
       "      <td>Hochelaga, Land of Souls (Hochelaga terre des ...</td>\n",
       "      <td>historical drama : One night on the campus of ...</td>\n",
       "      <td>Drama</td>\n",
       "      <td>historical</td>\n",
       "    </tr>\n",
       "    <tr>\n",
       "      <th>22342</th>\n",
       "      <td>2017</td>\n",
       "      <td>Indian Horse</td>\n",
       "      <td>Canadian</td>\n",
       "      <td>Stephen Campanelli</td>\n",
       "      <td>Forrest Goodluck, Michiel Huisman, Michael Mur...</td>\n",
       "      <td>drama</td>\n",
       "      <td>https://en.wikipedia.org/wiki/Indian_Horse_(film)</td>\n",
       "      <td>The Indian Horse family, including six-year-ol...</td>\n",
       "      <td>Indian Horse : The Indian Horse family, includ...</td>\n",
       "      <td>drama : The Indian Horse family, including six...</td>\n",
       "      <td>Drama</td>\n",
       "      <td>drama</td>\n",
       "    </tr>\n",
       "    <tr>\n",
       "      <th>22343</th>\n",
       "      <td>2017</td>\n",
       "      <td>The Little Girl Who Was Too Fond of Matches (L...</td>\n",
       "      <td>Canadian</td>\n",
       "      <td>Simon Lavoie</td>\n",
       "      <td>NaN</td>\n",
       "      <td>unknown</td>\n",
       "      <td>https://en.wikipedia.org/wiki/The_Little_Girl_...</td>\n",
       "      <td>In rural 1930s Quebec, Alice lives in house wi...</td>\n",
       "      <td>The Little Girl Who Was Too Fond of Matches (L...</td>\n",
       "      <td>In rural 1930s Quebec, Alice lives in house wi...</td>\n",
       "      <td>Other</td>\n",
       "      <td>unknown</td>\n",
       "    </tr>\n",
       "    <tr>\n",
       "      <th>22344</th>\n",
       "      <td>2017</td>\n",
       "      <td>Meditation Park</td>\n",
       "      <td>Canadian</td>\n",
       "      <td>Mina Shum</td>\n",
       "      <td>Sandra Oh, Liane Balaban, Don McKellar</td>\n",
       "      <td>drama</td>\n",
       "      <td>https://en.wikipedia.org/wiki/Meditation_Park</td>\n",
       "      <td>Opened by Mandarin theme song, Meditation Park...</td>\n",
       "      <td>Meditation Park : Opened by Mandarin theme son...</td>\n",
       "      <td>drama : Opened by Mandarin theme song, Meditat...</td>\n",
       "      <td>Drama</td>\n",
       "      <td>drama</td>\n",
       "    </tr>\n",
       "    <tr>\n",
       "      <th>22345</th>\n",
       "      <td>2017</td>\n",
       "      <td>Ravenous (Les Affamés)</td>\n",
       "      <td>Canadian</td>\n",
       "      <td>Robin Aubert</td>\n",
       "      <td>NaN</td>\n",
       "      <td>horror drama</td>\n",
       "      <td>https://en.wikipedia.org/wiki/Ravenous_(2017_f...</td>\n",
       "      <td>In the aftermath of a zombie-like outbreak, th...</td>\n",
       "      <td>Ravenous (Les Affamés) : In the aftermath of a...</td>\n",
       "      <td>horror drama : In the aftermath of a zombie-li...</td>\n",
       "      <td>Drama</td>\n",
       "      <td>horror</td>\n",
       "    </tr>\n",
       "  </tbody>\n",
       "</table>\n",
       "<p>22346 rows × 12 columns</p>\n",
       "</div>"
      ]
     },
     "execution_count": 5,
     "metadata": {},
     "output_type": "execute_result"
    }
   ],
   "execution_count": 5
  },
  {
   "metadata": {
    "ExecuteTime": {
     "end_time": "2025-08-17T07:34:31.911208Z",
     "start_time": "2025-08-17T07:34:31.905705Z"
    }
   },
   "cell_type": "code",
   "source": "movies = movies.drop(columns=['Title-And-Plot', 'Genre-And-Plot'])",
   "id": "413393b5cc4c397",
   "outputs": [],
   "execution_count": 6
  },
  {
   "metadata": {
    "ExecuteTime": {
     "end_time": "2025-08-17T07:34:31.944819Z",
     "start_time": "2025-08-17T07:34:31.916122Z"
    }
   },
   "cell_type": "code",
   "source": "movies['Title-Genre-Plot'] = movies['Title'] + ' - ' + movies['Genre'] + ' : ' + movies['Plot']",
   "id": "7ebaf0a2f3408730",
   "outputs": [],
   "execution_count": 7
  },
  {
   "metadata": {
    "ExecuteTime": {
     "end_time": "2025-08-17T07:34:31.965017Z",
     "start_time": "2025-08-17T07:34:31.949806Z"
    }
   },
   "cell_type": "code",
   "source": [
    "training_df = movies.dropna(subset=['Plot', 'New-Genre', 'Sub-Genre'])\n",
    "training_df = training_df[training_df['Sub-Genre'] != 'Unknown']"
   ],
   "id": "2d110ae688a97f73",
   "outputs": [],
   "execution_count": 8
  },
  {
   "metadata": {
    "ExecuteTime": {
     "end_time": "2025-08-17T07:34:31.975484Z",
     "start_time": "2025-08-17T07:34:31.969637Z"
    }
   },
   "cell_type": "code",
   "source": "training_df.head()",
   "id": "11b21018ae5ced60",
   "outputs": [
    {
     "data": {
      "text/plain": [
       "   Release Year                             Title Origin/Ethnicity  \\\n",
       "0          1901            Kansas Saloon Smashers         American   \n",
       "1          1901     Love by the Light of the Moon         American   \n",
       "2          1901           The Martyred Presidents         American   \n",
       "3          1901  Terrible Teddy, the Grizzly King         American   \n",
       "4          1902            Jack and the Beanstalk         American   \n",
       "\n",
       "                             Director Cast    Genre  \\\n",
       "0                             Unknown  NaN  unknown   \n",
       "1                             Unknown  NaN  unknown   \n",
       "2                             Unknown  NaN  unknown   \n",
       "3                             Unknown  NaN  unknown   \n",
       "4  George S. Fleming, Edwin S. Porter  NaN  unknown   \n",
       "\n",
       "                                           Wiki Page  \\\n",
       "0  https://en.wikipedia.org/wiki/Kansas_Saloon_Sm...   \n",
       "1  https://en.wikipedia.org/wiki/Love_by_the_Ligh...   \n",
       "2  https://en.wikipedia.org/wiki/The_Martyred_Pre...   \n",
       "3  https://en.wikipedia.org/wiki/Terrible_Teddy,_...   \n",
       "4  https://en.wikipedia.org/wiki/Jack_and_the_Bea...   \n",
       "\n",
       "                                                Plot New-Genre Sub-Genre  \\\n",
       "0  A bartender is working at a saloon, serving dr...     Other   unknown   \n",
       "1  The moon, painted with a smiling face hangs ov...     Other   unknown   \n",
       "2  The film, just over a minute long, is composed...     Other   unknown   \n",
       "3  Lasting just 61 seconds and consisting of two ...     Other   unknown   \n",
       "4  The earliest known adaptation of the classic f...     Other   unknown   \n",
       "\n",
       "                                    Title-Genre-Plot  \n",
       "0  Kansas Saloon Smashers - unknown : A bartender...  \n",
       "1  Love by the Light of the Moon - unknown : The ...  \n",
       "2  The Martyred Presidents - unknown : The film, ...  \n",
       "3  Terrible Teddy, the Grizzly King - unknown : L...  \n",
       "4  Jack and the Beanstalk - unknown : The earlies...  "
      ],
      "text/html": [
       "<div>\n",
       "<style scoped>\n",
       "    .dataframe tbody tr th:only-of-type {\n",
       "        vertical-align: middle;\n",
       "    }\n",
       "\n",
       "    .dataframe tbody tr th {\n",
       "        vertical-align: top;\n",
       "    }\n",
       "\n",
       "    .dataframe thead th {\n",
       "        text-align: right;\n",
       "    }\n",
       "</style>\n",
       "<table border=\"1\" class=\"dataframe\">\n",
       "  <thead>\n",
       "    <tr style=\"text-align: right;\">\n",
       "      <th></th>\n",
       "      <th>Release Year</th>\n",
       "      <th>Title</th>\n",
       "      <th>Origin/Ethnicity</th>\n",
       "      <th>Director</th>\n",
       "      <th>Cast</th>\n",
       "      <th>Genre</th>\n",
       "      <th>Wiki Page</th>\n",
       "      <th>Plot</th>\n",
       "      <th>New-Genre</th>\n",
       "      <th>Sub-Genre</th>\n",
       "      <th>Title-Genre-Plot</th>\n",
       "    </tr>\n",
       "  </thead>\n",
       "  <tbody>\n",
       "    <tr>\n",
       "      <th>0</th>\n",
       "      <td>1901</td>\n",
       "      <td>Kansas Saloon Smashers</td>\n",
       "      <td>American</td>\n",
       "      <td>Unknown</td>\n",
       "      <td>NaN</td>\n",
       "      <td>unknown</td>\n",
       "      <td>https://en.wikipedia.org/wiki/Kansas_Saloon_Sm...</td>\n",
       "      <td>A bartender is working at a saloon, serving dr...</td>\n",
       "      <td>Other</td>\n",
       "      <td>unknown</td>\n",
       "      <td>Kansas Saloon Smashers - unknown : A bartender...</td>\n",
       "    </tr>\n",
       "    <tr>\n",
       "      <th>1</th>\n",
       "      <td>1901</td>\n",
       "      <td>Love by the Light of the Moon</td>\n",
       "      <td>American</td>\n",
       "      <td>Unknown</td>\n",
       "      <td>NaN</td>\n",
       "      <td>unknown</td>\n",
       "      <td>https://en.wikipedia.org/wiki/Love_by_the_Ligh...</td>\n",
       "      <td>The moon, painted with a smiling face hangs ov...</td>\n",
       "      <td>Other</td>\n",
       "      <td>unknown</td>\n",
       "      <td>Love by the Light of the Moon - unknown : The ...</td>\n",
       "    </tr>\n",
       "    <tr>\n",
       "      <th>2</th>\n",
       "      <td>1901</td>\n",
       "      <td>The Martyred Presidents</td>\n",
       "      <td>American</td>\n",
       "      <td>Unknown</td>\n",
       "      <td>NaN</td>\n",
       "      <td>unknown</td>\n",
       "      <td>https://en.wikipedia.org/wiki/The_Martyred_Pre...</td>\n",
       "      <td>The film, just over a minute long, is composed...</td>\n",
       "      <td>Other</td>\n",
       "      <td>unknown</td>\n",
       "      <td>The Martyred Presidents - unknown : The film, ...</td>\n",
       "    </tr>\n",
       "    <tr>\n",
       "      <th>3</th>\n",
       "      <td>1901</td>\n",
       "      <td>Terrible Teddy, the Grizzly King</td>\n",
       "      <td>American</td>\n",
       "      <td>Unknown</td>\n",
       "      <td>NaN</td>\n",
       "      <td>unknown</td>\n",
       "      <td>https://en.wikipedia.org/wiki/Terrible_Teddy,_...</td>\n",
       "      <td>Lasting just 61 seconds and consisting of two ...</td>\n",
       "      <td>Other</td>\n",
       "      <td>unknown</td>\n",
       "      <td>Terrible Teddy, the Grizzly King - unknown : L...</td>\n",
       "    </tr>\n",
       "    <tr>\n",
       "      <th>4</th>\n",
       "      <td>1902</td>\n",
       "      <td>Jack and the Beanstalk</td>\n",
       "      <td>American</td>\n",
       "      <td>George S. Fleming, Edwin S. Porter</td>\n",
       "      <td>NaN</td>\n",
       "      <td>unknown</td>\n",
       "      <td>https://en.wikipedia.org/wiki/Jack_and_the_Bea...</td>\n",
       "      <td>The earliest known adaptation of the classic f...</td>\n",
       "      <td>Other</td>\n",
       "      <td>unknown</td>\n",
       "      <td>Jack and the Beanstalk - unknown : The earlies...</td>\n",
       "    </tr>\n",
       "  </tbody>\n",
       "</table>\n",
       "</div>"
      ]
     },
     "execution_count": 9,
     "metadata": {},
     "output_type": "execute_result"
    }
   ],
   "execution_count": 9
  },
  {
   "metadata": {
    "ExecuteTime": {
     "end_time": "2025-08-17T07:34:32.460465Z",
     "start_time": "2025-08-17T07:34:31.986740Z"
    }
   },
   "cell_type": "code",
   "source": [
    "from sklearn.model_selection import train_test_split\n",
    "from transformers import AutoTokenizer, AutoModelForSequenceClassification, Trainer, TrainingArguments\n",
    "import torch\n",
    "from torch.utils.data import Dataset, TensorDataset"
   ],
   "id": "df37de7db84c4c95",
   "outputs": [],
   "execution_count": 10
  },
  {
   "metadata": {
    "ExecuteTime": {
     "end_time": "2025-08-17T07:34:33.425489Z",
     "start_time": "2025-08-17T07:34:32.466614Z"
    }
   },
   "cell_type": "code",
   "source": [
    "tokeniser = AutoTokenizer.from_pretrained('bert-base-uncased')\n",
    "model = AutoModelForSequenceClassification.from_pretrained('bert-base-uncased')"
   ],
   "id": "7d5b226c14d5f814",
   "outputs": [
    {
     "name": "stderr",
     "output_type": "stream",
     "text": [
      "Some weights of BertForSequenceClassification were not initialized from the model checkpoint at bert-base-uncased and are newly initialized: ['classifier.bias', 'classifier.weight']\n",
      "You should probably TRAIN this model on a down-stream task to be able to use it for predictions and inference.\n"
     ]
    }
   ],
   "execution_count": 11
  },
  {
   "metadata": {
    "ExecuteTime": {
     "end_time": "2025-08-17T07:34:33.441817Z",
     "start_time": "2025-08-17T07:34:33.433328Z"
    }
   },
   "cell_type": "code",
   "source": [
    "from sklearn.preprocessing import LabelEncoder\n",
    "\n",
    "label_encoder_key = LabelEncoder()\n",
    "label_encoder_sub = LabelEncoder()\n",
    "\n",
    "training_df['key_label'] = label_encoder_key.fit_transform(training_df['New-Genre'])\n",
    "training_df['sub_label'] = label_encoder_sub.fit_transform(training_df['Sub-Genre'])"
   ],
   "id": "4699b6c1593d7e9f",
   "outputs": [],
   "execution_count": 12
  },
  {
   "metadata": {
    "ExecuteTime": {
     "end_time": "2025-08-17T07:34:33.450982Z",
     "start_time": "2025-08-17T07:34:33.445458Z"
    }
   },
   "cell_type": "code",
   "source": "X_train, X_test, y_train, y_test = train_test_split(training_df['Title-Genre-Plot'], training_df['key_label'], test_size=0.2, random_state=42)",
   "id": "41da453e0c131b18",
   "outputs": [],
   "execution_count": 13
  },
  {
   "metadata": {
    "ExecuteTime": {
     "end_time": "2025-08-17T07:34:40.940141Z",
     "start_time": "2025-08-17T07:34:33.456082Z"
    }
   },
   "cell_type": "code",
   "source": [
    "train_encoded = tokeniser(list(X_train), truncation=True, padding=True, max_length=512, return_tensors='pt')\n",
    "test_encoded = tokeniser(list(X_test), truncation=True, padding=True, max_length=512, return_tensors='pt')"
   ],
   "id": "4d4f254733ffae7c",
   "outputs": [],
   "execution_count": 14
  },
  {
   "metadata": {
    "ExecuteTime": {
     "end_time": "2025-08-17T07:34:40.954572Z",
     "start_time": "2025-08-17T07:34:40.950040Z"
    }
   },
   "cell_type": "code",
   "source": [
    "train_dataset = TensorDataset(train_encoded['input_ids'], train_encoded['attention_mask'], torch.tensor(y_train.values))\n",
    "test_dataset = TensorDataset(test_encoded['input_ids'], test_encoded['attention_mask'], torch.tensor(y_test.values))"
   ],
   "id": "21ff6638be555814",
   "outputs": [],
   "execution_count": 15
  },
  {
   "metadata": {
    "ExecuteTime": {
     "end_time": "2025-08-17T07:34:41.118716Z",
     "start_time": "2025-08-17T07:34:40.964210Z"
    }
   },
   "cell_type": "code",
   "source": "model = AutoModelForSequenceClassification.from_pretrained('bert-base-uncased', num_labels=len(key_genres))",
   "id": "82415e14246e7f7f",
   "outputs": [
    {
     "name": "stderr",
     "output_type": "stream",
     "text": [
      "Some weights of BertForSequenceClassification were not initialized from the model checkpoint at bert-base-uncased and are newly initialized: ['classifier.bias', 'classifier.weight']\n",
      "You should probably TRAIN this model on a down-stream task to be able to use it for predictions and inference.\n"
     ]
    }
   ],
   "execution_count": 16
  },
  {
   "metadata": {
    "ExecuteTime": {
     "end_time": "2025-08-17T07:38:15.172305Z",
     "start_time": "2025-08-17T07:38:15.148517Z"
    }
   },
   "cell_type": "code",
   "source": "tokeniser",
   "id": "19df91d24ed7ad8c",
   "outputs": [
    {
     "data": {
      "text/plain": [
       "BertTokenizerFast(name_or_path='bert-base-uncased', vocab_size=30522, model_max_length=512, is_fast=True, padding_side='right', truncation_side='right', special_tokens={'unk_token': '[UNK]', 'sep_token': '[SEP]', 'pad_token': '[PAD]', 'cls_token': '[CLS]', 'mask_token': '[MASK]'}, clean_up_tokenization_spaces=False, added_tokens_decoder={\n",
       "\t0: AddedToken(\"[PAD]\", rstrip=False, lstrip=False, single_word=False, normalized=False, special=True),\n",
       "\t100: AddedToken(\"[UNK]\", rstrip=False, lstrip=False, single_word=False, normalized=False, special=True),\n",
       "\t101: AddedToken(\"[CLS]\", rstrip=False, lstrip=False, single_word=False, normalized=False, special=True),\n",
       "\t102: AddedToken(\"[SEP]\", rstrip=False, lstrip=False, single_word=False, normalized=False, special=True),\n",
       "\t103: AddedToken(\"[MASK]\", rstrip=False, lstrip=False, single_word=False, normalized=False, special=True),\n",
       "}\n",
       ")"
      ]
     },
     "execution_count": 18,
     "metadata": {},
     "output_type": "execute_result"
    }
   ],
   "execution_count": 18
  },
  {
   "metadata": {
    "ExecuteTime": {
     "end_time": "2025-08-17T07:38:29.122529Z",
     "start_time": "2025-08-17T07:38:29.107890Z"
    }
   },
   "cell_type": "code",
   "source": "model",
   "id": "c3171f01bf14d355",
   "outputs": [
    {
     "data": {
      "text/plain": [
       "BertForSequenceClassification(\n",
       "  (bert): BertModel(\n",
       "    (embeddings): BertEmbeddings(\n",
       "      (word_embeddings): Embedding(30522, 768, padding_idx=0)\n",
       "      (position_embeddings): Embedding(512, 768)\n",
       "      (token_type_embeddings): Embedding(2, 768)\n",
       "      (LayerNorm): LayerNorm((768,), eps=1e-12, elementwise_affine=True)\n",
       "      (dropout): Dropout(p=0.1, inplace=False)\n",
       "    )\n",
       "    (encoder): BertEncoder(\n",
       "      (layer): ModuleList(\n",
       "        (0-11): 12 x BertLayer(\n",
       "          (attention): BertAttention(\n",
       "            (self): BertSdpaSelfAttention(\n",
       "              (query): Linear(in_features=768, out_features=768, bias=True)\n",
       "              (key): Linear(in_features=768, out_features=768, bias=True)\n",
       "              (value): Linear(in_features=768, out_features=768, bias=True)\n",
       "              (dropout): Dropout(p=0.1, inplace=False)\n",
       "            )\n",
       "            (output): BertSelfOutput(\n",
       "              (dense): Linear(in_features=768, out_features=768, bias=True)\n",
       "              (LayerNorm): LayerNorm((768,), eps=1e-12, elementwise_affine=True)\n",
       "              (dropout): Dropout(p=0.1, inplace=False)\n",
       "            )\n",
       "          )\n",
       "          (intermediate): BertIntermediate(\n",
       "            (dense): Linear(in_features=768, out_features=3072, bias=True)\n",
       "            (intermediate_act_fn): GELUActivation()\n",
       "          )\n",
       "          (output): BertOutput(\n",
       "            (dense): Linear(in_features=3072, out_features=768, bias=True)\n",
       "            (LayerNorm): LayerNorm((768,), eps=1e-12, elementwise_affine=True)\n",
       "            (dropout): Dropout(p=0.1, inplace=False)\n",
       "          )\n",
       "        )\n",
       "      )\n",
       "    )\n",
       "    (pooler): BertPooler(\n",
       "      (dense): Linear(in_features=768, out_features=768, bias=True)\n",
       "      (activation): Tanh()\n",
       "    )\n",
       "  )\n",
       "  (dropout): Dropout(p=0.1, inplace=False)\n",
       "  (classifier): Linear(in_features=768, out_features=14, bias=True)\n",
       ")"
      ]
     },
     "execution_count": 19,
     "metadata": {},
     "output_type": "execute_result"
    }
   ],
   "execution_count": 19
  },
  {
   "metadata": {},
   "cell_type": "markdown",
   "source": "# Training",
   "id": "2b38e2c03f76ddc4"
  },
  {
   "metadata": {
    "ExecuteTime": {
     "end_time": "2025-08-17T07:47:52.397551Z",
     "start_time": "2025-08-17T07:47:52.378352Z"
    }
   },
   "cell_type": "code",
   "source": [
    "class Movie_Classification(nn.Module):\n",
    "    def __init__(self, num_labels):\n",
    "        super(Movie_Classification, self).__init__()\n",
    "        self.num_labels = num_labels\n",
    "        self.classifier = AutoModelForSequenceClassification.from_pretrained('bert-base-uncased', num_labels=num_labels)\n",
    "        self.tokenizer = AutoTokenizer.from_pretrained('bert-base-uncased')\n",
    "\n",
    "    def forward(self, input_ids, attention_mask, labels=None):\n",
    "        outputs = self.classifier(input_ids=input_ids, attention_mask=attention_mask, labels=labels)\n"
   ],
   "id": "5176e1a4b2600850",
   "outputs": [],
   "execution_count": 21
  },
  {
   "metadata": {},
   "cell_type": "code",
   "outputs": [],
   "execution_count": null,
   "source": "",
   "id": "a0f546f9b6a0a4d6"
  }
 ],
 "metadata": {
  "kernelspec": {
   "display_name": "Python (myenv)",
   "language": "python",
   "name": "myenv"
  },
  "language_info": {
   "codemirror_mode": {
    "name": "ipython",
    "version": 2
   },
   "file_extension": ".py",
   "mimetype": "text/x-python",
   "name": "python",
   "nbconvert_exporter": "python",
   "pygments_lexer": "ipython2",
   "version": "2.7.6"
  }
 },
 "nbformat": 4,
 "nbformat_minor": 5
}
