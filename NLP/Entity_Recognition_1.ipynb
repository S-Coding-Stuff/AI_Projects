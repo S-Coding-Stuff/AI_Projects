{
 "cells": [
  {
   "cell_type": "code",
   "id": "initial_id",
   "metadata": {
    "collapsed": true,
    "ExecuteTime": {
     "end_time": "2025-07-23T15:28:00.990851Z",
     "start_time": "2025-07-23T15:28:00.978789Z"
    }
   },
   "source": [
    "import numpy as np, pandas as pd\n",
    "import sklearn\n",
    "import matplotlib.pyplot as plt"
   ],
   "outputs": [],
   "execution_count": 55
  },
  {
   "metadata": {
    "ExecuteTime": {
     "end_time": "2025-07-23T15:28:01.047459Z",
     "start_time": "2025-07-23T15:28:01.000679Z"
    }
   },
   "cell_type": "code",
   "source": [
    "ratings = pd.read_csv('ratings.csv')\n",
    "print(ratings.head())"
   ],
   "id": "97b1542337922628",
   "outputs": [
    {
     "name": "stdout",
     "output_type": "stream",
     "text": [
      "   userId  movieId  rating   timestamp\n",
      "0     877     4155       5  1651201566\n",
      "1     305     7661       2  1639553712\n",
      "2     381     8423       2  1610704432\n",
      "3     208     6433       1  1650223767\n",
      "4      47     7752       4  1663998365\n"
     ]
    }
   ],
   "execution_count": 56
  },
  {
   "metadata": {
    "ExecuteTime": {
     "end_time": "2025-07-23T15:28:01.065881Z",
     "start_time": "2025-07-23T15:28:01.053267Z"
    }
   },
   "cell_type": "code",
   "source": [
    "movies = pd.read_csv('movies.csv')\n",
    "print(movies.head())"
   ],
   "id": "c1f9d90db5cb3983",
   "outputs": [
    {
     "name": "stdout",
     "output_type": "stream",
     "text": [
      "   movieId                               title  \\\n",
      "0        1                    Toy Story (1995)   \n",
      "1        2                      Jumanji (1995)   \n",
      "2        3             Grumpier Old Men (1995)   \n",
      "3        4            Waiting to Exhale (1995)   \n",
      "4        5  Father of the Bride Part II (1995)   \n",
      "\n",
      "                                        genres  \n",
      "0  Adventure|Animation|Children|Comedy|Fantasy  \n",
      "1                   Adventure|Children|Fantasy  \n",
      "2                               Comedy|Romance  \n",
      "3                         Comedy|Drama|Romance  \n",
      "4                                       Comedy  \n"
     ]
    }
   ],
   "execution_count": 57
  },
  {
   "metadata": {
    "ExecuteTime": {
     "end_time": "2025-07-23T15:28:01.074316Z",
     "start_time": "2025-07-23T15:28:01.070273Z"
    }
   },
   "cell_type": "code",
   "source": [
    "num_users = ratings['userId'].nunique()\n",
    "print(num_users)"
   ],
   "id": "adca0a0152e554f0",
   "outputs": [
    {
     "name": "stdout",
     "output_type": "stream",
     "text": [
      "999\n"
     ]
    }
   ],
   "execution_count": 58
  },
  {
   "metadata": {
    "ExecuteTime": {
     "end_time": "2025-07-23T15:28:01.091234Z",
     "start_time": "2025-07-23T15:28:01.084593Z"
    }
   },
   "cell_type": "code",
   "source": [
    "# Frequency of ratings per user\n",
    "user_rating_freq = ratings[['userId', 'movieId']].groupby('userId').count().reset_index()\n",
    "user_rating_freq.columns = ['userId', 'rating_counts']\n",
    "print(user_rating_freq.head())"
   ],
   "id": "72b0d64806d496d9",
   "outputs": [
    {
     "name": "stdout",
     "output_type": "stream",
     "text": [
      "   userId  rating_counts\n",
      "0       1            120\n",
      "1       2            105\n",
      "2       3             89\n",
      "3       4            100\n",
      "4       5            107\n"
     ]
    }
   ],
   "execution_count": 59
  },
  {
   "metadata": {
    "ExecuteTime": {
     "end_time": "2025-07-23T15:28:01.136381Z",
     "start_time": "2025-07-23T15:28:01.120501Z"
    }
   },
   "cell_type": "code",
   "source": [
    "# Average movie ratings\n",
    "mean_ratings = ratings.groupby('movieId')[['rating']].mean()\n",
    "lowest = mean_ratings['rating'].idxmin()\n",
    "movies.loc[movies['movieId'] == lowest]\n",
    "highest = mean_ratings['rating'].idxmax()\n",
    "movies.loc[movies['movieId'] == highest]\n",
    "ratings[ratings['movieId'] == highest]\n",
    "ratings[ratings['movieId'] == lowest]\n",
    "\n",
    "movie_stats = ratings.groupby('movieId')[['rating']].agg(['count', 'mean'])\n",
    "movie_stats.columns = movie_stats.columns.droplevel()"
   ],
   "id": "88d581fd9d751f1e",
   "outputs": [],
   "execution_count": 60
  },
  {
   "metadata": {
    "ExecuteTime": {
     "end_time": "2025-07-23T15:28:01.190147Z",
     "start_time": "2025-07-23T15:28:01.139891Z"
    }
   },
   "cell_type": "code",
   "source": [
    "from scipy.sparse import csr_matrix\n",
    "\n",
    "def movie_matrix(df):\n",
    "    N = len(df['userId'].unique())\n",
    "    M = len(df['movieId'].unique())\n",
    "\n",
    "    # Dictionaries to map user IDs and movie IDs to indices in the sparse matrix\n",
    "    user_mapper = dict(zip(np.unique(df['userId']), list(range(N))))\n",
    "    movie_mapper = dict(zip(np.unique(df['movieId']), list(range(M))))\n",
    "\n",
    "    # Inverse of the above\n",
    "    inv_user_mapper = dict(zip(list(range(N)), np.unique(df['userId'])))\n",
    "    inv_movie_mapper = dict(zip(list(range(M)), np.unique(df['movieId'])))\n",
    "\n",
    "    user_idx = [user_mapper[i] for i in df['userId']]\n",
    "    movie_idx = [movie_mapper[i] for i in df['movieId']]\n",
    "\n",
    "    mat = csr_matrix((df['rating'], (movie_idx, user_idx)), shape=(M, N))\n",
    "    return mat, user_mapper, movie_mapper, inv_user_mapper, inv_movie_mapper\n",
    "\n",
    "movie_mat, user_mapper, movie_mapper, user_inv_mapper, movie_inv_mapper = movie_matrix(ratings)"
   ],
   "id": "712c5456db057817",
   "outputs": [],
   "execution_count": 61
  },
  {
   "metadata": {
    "ExecuteTime": {
     "end_time": "2025-07-23T15:28:01.196906Z",
     "start_time": "2025-07-23T15:28:01.193962Z"
    }
   },
   "cell_type": "code",
   "source": [
    "from sklearn.neighbors import NearestNeighbors\n",
    "\n",
    "# Find movie similarity using KNN based on Cosine Similarity\n",
    "def find_similar_movies(movieId, matrix, k, metric='cosine'):\n",
    "    neighbour_ids = []\n",
    "\n",
    "    if movieId not in movie_mapper:\n",
    "        print(f\"Movie ID {movieId} not found in movie_mapper\")\n",
    "        return []\n",
    "\n",
    "    movie_idx = movie_mapper[movieId]\n",
    "    movie_vec = matrix[movie_idx]\n",
    "    k += 1\n",
    "    KNN = NearestNeighbors(n_neighbors=k, metric=metric, algorithm='brute')\n",
    "    KNN.fit(matrix)\n",
    "    movie_vec = movie_vec.reshape(1,-1)\n",
    "    neighbour = KNN.kneighbors(movie_vec, return_distance=False)\n",
    "\n",
    "    for i in range(0, k):\n",
    "        n = neighbour.item(i)\n",
    "        neighbour_ids.append(movie_inv_mapper[n])\n",
    "\n",
    "    neighbour_ids.pop(0)\n",
    "    return neighbour_ids"
   ],
   "id": "ac1b29eb5bd95d2e",
   "outputs": [],
   "execution_count": 62
  },
  {
   "metadata": {
    "ExecuteTime": {
     "end_time": "2025-07-23T15:28:01.210202Z",
     "start_time": "2025-07-23T15:28:01.200313Z"
    }
   },
   "cell_type": "code",
   "source": [
    "def recommend_movies(userId, matrix, user_mapper, movie_mapper, inv_movie_mapper, k=10):\n",
    "    df1 = ratings[ratings['userId'] == userId]\n",
    "    movieId = df1[df1['rating'] == max(df1['rating'])]['movieId'].iloc[0]\n",
    "    titles = dict(zip(movies['movieId'], movies['title']))\n",
    "    similar_movies = find_similar_movies(movieId, matrix, k)\n",
    "\n",
    "    if movieId in titles:\n",
    "        print(f\"Based on movies like {titles[movieId]}, you may also like:\")\n",
    "    else:\n",
    "        print(f\"Movie title not found for movieId:\", movieId)\n",
    "\n",
    "    for i in similar_movies:\n",
    "        if i in titles:\n",
    "            print(titles[i])\n"
   ],
   "id": "9fd147bdea393384",
   "outputs": [],
   "execution_count": 63
  },
  {
   "metadata": {
    "ExecuteTime": {
     "end_time": "2025-07-23T15:28:21.557073Z",
     "start_time": "2025-07-23T15:28:21.532961Z"
    }
   },
   "cell_type": "code",
   "source": [
    "user_id = 10\n",
    "recommend_movies(user_id, movie_mat, user_mapper, movie_mapper, movie_inv_mapper, k=10)"
   ],
   "id": "d32df01161ba9f30",
   "outputs": [
    {
     "name": "stdout",
     "output_type": "stream",
     "text": [
      "Movie title not found for movieId: 9483\n",
      "Owning Mahowny (2003)\n",
      "Night of the Iguana, The (1964)\n",
      "Motel Hell (1980)\n",
      "Naqoyqatsi (2002)\n",
      "So I Married an Axe Murderer (1993)\n"
     ]
    }
   ],
   "execution_count": 65
  },
  {
   "metadata": {
    "ExecuteTime": {
     "end_time": "2025-07-23T15:28:01.232024Z",
     "start_time": "2025-07-23T15:28:01.230291Z"
    }
   },
   "cell_type": "code",
   "source": "",
   "id": "146758098728f4b1",
   "outputs": [],
   "execution_count": null
  }
 ],
 "metadata": {
  "kernelspec": {
   "display_name": "Python (DL_Software_Dev)",
   "language": "python",
   "name": "dl_software_dev"
  },
  "language_info": {
   "codemirror_mode": {
    "name": "ipython",
    "version": 2
   },
   "file_extension": ".py",
   "mimetype": "text/x-python",
   "name": "python",
   "nbconvert_exporter": "python",
   "pygments_lexer": "ipython2",
   "version": "2.7.6"
  }
 },
 "nbformat": 4,
 "nbformat_minor": 5
}
