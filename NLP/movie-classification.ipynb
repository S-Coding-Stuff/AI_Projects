{
 "cells": [
  {
   "cell_type": "code",
   "id": "initial_id",
   "metadata": {
    "collapsed": true,
    "ExecuteTime": {
     "end_time": "2025-08-13T19:38:00.950795Z",
     "start_time": "2025-08-13T19:37:55.954334Z"
    }
   },
   "source": [
    "import pandas as pd, numpy as np\n",
    "import matplotlib.pyplot as plt\n",
    "import torch\n",
    "from torch import nn\n",
    "from sklearn.model_selection import train_test_split\n",
    "from transformers import AutoTokenizer, AutoModel, AutoModelForSequenceClassification"
   ],
   "outputs": [],
   "execution_count": 1
  },
  {
   "metadata": {
    "ExecuteTime": {
     "end_time": "2025-08-13T19:41:23.526065Z",
     "start_time": "2025-08-13T19:41:23.511597Z"
    }
   },
   "cell_type": "code",
   "source": [
    "key_genres = {\n",
    "    \"sci-fi\": \"Science Fiction\",\n",
    "    \"science fiction\": \"Science Fiction\",\n",
    "    \"scifi\": \"Science Fiction\",\n",
    "    \"romcom\": \"Romance\",\n",
    "    \"rom-com\": \"Romance\",\n",
    "    \"doc\": \"Documentary\",\n",
    "    \"bio\": \"Biopic\",\n",
    "    \"biography\": \"Biopic\",\n",
    "    \"war\": \"War\",\n",
    "    \"thriller\": \"Thriller\",\n",
    "    \"mystery\": \"Mystery\",\n",
    "    \"crime\": \"Crime\",\n",
    "    \"western\": \"Western\",\n",
    "    \"fantasy\": \"Fantasy\",\n",
    "    \"horror\": \"Horror\",\n",
    "    \"comedy\": \"Comedy\",\n",
    "    \"drama\": \"Drama\",\n",
    "    \"action\": \"Action\",\n",
    "    \"adventure\": \"Adventure\",\n",
    "    \"animation\": \"Animation\",\n",
    "    \"anime\" : \"Animation\",\n",
    "    \"family\": \"Family\",\n",
    "    \"music\": \"Music/Musical\",\n",
    "    \"musical\": \"Musical/Musical\",\n",
    "    \"history\": \"History\",\n",
    "    \"sport\": \"Sport\",\n",
    "    \"sports\": \"Sport\",\n",
    "    \"romance\": \"Romance\",\n",
    "}"
   ],
   "id": "aaaea6fa3738ef3e",
   "outputs": [],
   "execution_count": 4
  },
  {
   "metadata": {
    "ExecuteTime": {
     "end_time": "2025-08-13T19:41:25.682945Z",
     "start_time": "2025-08-13T19:41:24.404783Z"
    }
   },
   "cell_type": "code",
   "source": "movies = pd.read_csv(\"movies-extended.csv\")",
   "id": "753655ad5da28094",
   "outputs": [],
   "execution_count": 5
  },
  {
   "metadata": {},
   "cell_type": "markdown",
   "source": "# Text Cleanup",
   "id": "9a6bf6e69a770c44"
  },
  {
   "metadata": {
    "ExecuteTime": {
     "end_time": "2025-08-13T19:53:32.778245Z",
     "start_time": "2025-08-13T19:53:32.768723Z"
    }
   },
   "cell_type": "code",
   "source": [
    "import re\n",
    "sep_regex = re.compile(r\"\\s*[,/|;&]\\s*\")"
   ],
   "id": "b6f47ee85646e917",
   "outputs": [],
   "execution_count": 8
  },
  {
   "metadata": {
    "ExecuteTime": {
     "end_time": "2025-08-13T19:53:33.104499Z",
     "start_time": "2025-08-13T19:53:33.098616Z"
    }
   },
   "cell_type": "code",
   "source": [
    "def normalise_genre_token(token):\n",
    "    t = token.strip().lower()\n",
    "    if not t:\n",
    "        return \"\"\n",
    "    return key_genres.get(t, token.strip().title())\n",
    "\n",
    "def parse_genre(cell):\n",
    "    if not isinstance(cell, str):\n",
    "        return []\n",
    "    parts = sep_regex.split(cell)\n",
    "    out = [normalise_genre_token(part) for part in parts if part.strip()]\n",
    "    return sorted(list(dict.fromkeys(out)))"
   ],
   "id": "90c879f9d1ca107b",
   "outputs": [],
   "execution_count": 9
  },
  {
   "metadata": {
    "ExecuteTime": {
     "end_time": "2025-08-13T19:56:29.297577Z",
     "start_time": "2025-08-13T19:56:29.276967Z"
    }
   },
   "cell_type": "code",
   "source": [
    "if \"Plot\" not in movies.columns:\n",
    "    raise ValueError(f\"Column 'Plot' not found in movies data! Columns available: {list(movies.columns)}\")\n",
    "if \"Genre\" not in movies.columns:\n",
    "    raise ValueError(f\"Column 'Genre' not found in movies data! Columns available: {list(movies.columns)}\")"
   ],
   "id": "451d1a4c09d03bbf",
   "outputs": [],
   "execution_count": 10
  },
  {
   "metadata": {},
   "cell_type": "code",
   "outputs": [],
   "execution_count": null,
   "source": [
    "movies['Plot'] = movies['Plot'].astype(str).fillna(\"\").str.strip()\n",
    "movies = movies[movies['Plot'].str.len() > 0].copy()"
   ],
   "id": "cf41bdc852580579"
  },
  {
   "metadata": {
    "ExecuteTime": {
     "end_time": "2025-08-13T20:01:03.382306Z",
     "start_time": "2025-08-13T20:01:03.338763Z"
    }
   },
   "cell_type": "code",
   "source": [
    "# Picking out all known genres vs unknown genres (simple negation below)\n",
    "known_genres = movies['Genre'].astype(str).str.lower().ne('unknown')\n",
    "unknown_genres = ~known_genres"
   ],
   "id": "b33d23b05196e72c",
   "outputs": [],
   "execution_count": 11
  },
  {
   "metadata": {},
   "cell_type": "code",
   "outputs": [],
   "execution_count": null,
   "source": "",
   "id": "69db9caa480882aa"
  }
 ],
 "metadata": {
  "kernelspec": {
   "display_name": "Python 3",
   "language": "python",
   "name": "python3"
  },
  "language_info": {
   "codemirror_mode": {
    "name": "ipython",
    "version": 2
   },
   "file_extension": ".py",
   "mimetype": "text/x-python",
   "name": "python",
   "nbconvert_exporter": "python",
   "pygments_lexer": "ipython2",
   "version": "2.7.6"
  }
 },
 "nbformat": 4,
 "nbformat_minor": 5
}
